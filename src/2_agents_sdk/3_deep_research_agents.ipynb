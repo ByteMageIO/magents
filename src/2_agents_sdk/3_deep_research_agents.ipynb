{
 "cells": [
  {
   "cell_type": "code",
   "execution_count": null,
   "id": "e211f609",
   "metadata": {},
   "outputs": [],
   "source": [
    "from agents import Agent, Runner, function_tool, WebSearchTool, ModelSettings\n",
    "from pydantic import BaseModel, Field"
   ]
  },
  {
   "cell_type": "code",
   "execution_count": null,
   "id": "aa358669",
   "metadata": {},
   "outputs": [],
   "source": [
    "# Build a planner agent that plans the research process\n",
    "# Research planner outputs three search queries\n",
    "# Each search query has a reason for being searched"
   ]
  },
  {
   "cell_type": "code",
   "execution_count": null,
   "id": "2bc48007",
   "metadata": {},
   "outputs": [],
   "source": [
    "# Build a search agent that performs the web searches\n",
    "# The search agent takes a search query, searches on the web, and returns the results"
   ]
  },
  {
   "cell_type": "code",
   "execution_count": null,
   "id": "b53fa7f5",
   "metadata": {},
   "outputs": [],
   "source": [
    "# Build a writer agent that writes the final report\n",
    "# The writer agent takes a report outline, and writes the final report"
   ]
  },
  {
   "cell_type": "code",
   "execution_count": null,
   "id": "a78d8533",
   "metadata": {},
   "outputs": [],
   "source": [
    "# Build an email agent that sends the final report via email"
   ]
  },
  {
   "cell_type": "code",
   "execution_count": null,
   "id": "b771c59f",
   "metadata": {},
   "outputs": [],
   "source": [
    "# Convert all agents to tools for manager orchestration"
   ]
  },
  {
   "cell_type": "code",
   "execution_count": null,
   "id": "5cc8dd51",
   "metadata": {},
   "outputs": [],
   "source": [
    "# Build an orchestrator agent that uses other agents to perform the research process"
   ]
  }
 ],
 "metadata": {
  "kernelspec": {
   "display_name": ".venv",
   "language": "python",
   "name": "python3"
  },
  "language_info": {
   "codemirror_mode": {
    "name": "ipython",
    "version": 3
   },
   "file_extension": ".py",
   "mimetype": "text/x-python",
   "name": "python",
   "nbconvert_exporter": "python",
   "pygments_lexer": "ipython3",
   "version": "3.12.11"
  }
 },
 "nbformat": 4,
 "nbformat_minor": 5
}
