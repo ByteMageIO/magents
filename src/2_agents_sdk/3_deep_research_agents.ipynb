{
 "cells": [
  {
   "cell_type": "code",
   "execution_count": null,
   "id": "e211f609",
   "metadata": {},
   "outputs": [],
   "source": [
    "from agents import Agent, Runner, function_tool, WebSearchTool, ModelSettings\n",
    "from pydantic import BaseModel, Field"
   ]
  },
  {
   "cell_type": "code",
   "execution_count": null,
   "id": "aa358669",
   "metadata": {},
   "outputs": [],
   "source": [
    "class WebSearchItem(BaseModel):\n",
    "    query: str = Field(description=\"The search term to use for the web search\")\n",
    "    reason: str = Field(description=\"The reason for the search\")\n",
    "\n",
    "class WebSearchPlan(BaseModel):\n",
    "    searches: list[WebSearchItem] = Field(description=\"A list of web searches to perform\")\n",
    "\n",
    "NUMBER_OF_SEARCHES = 3\n",
    "\n",
    "planner_agent = Agent(\n",
    "    name=\"Planner Agent\",\n",
    "    instructions=f\"You are a helpful research agent. Given a query, you come up with a set of web searches to perform to best answer the query. Output {NUMBER_OF_SEARCHES} terms to search for.\",\n",
    "    model=\"gpt-4o-mini\",\n",
    "    output_type=WebSearchPlan,\n",
    ")\n",
    "\n",
    "searches = await Runner.run(planner_agent, \"Best Agentic AI frameworks in 2025.\")\n",
    "\n",
    "print(searches.final_output_as(WebSearchPlan))"
   ]
  },
  {
   "cell_type": "code",
   "execution_count": null,
   "id": "2bc48007",
   "metadata": {},
   "outputs": [],
   "source": [
    "search_agent = Agent(\n",
    "    name=\"Search Agent\",\n",
    "    instructions=\"You are a helpful research agent. You are given a list of web searches to perform. You perform the searches and produce a concise summary of results. Capture the main points. This will be consumed by someone synthesizing the report so it is vital to capture the essence.\",\n",
    "    model=\"gpt-4o-mini\",\n",
    "    tools=[WebSearchTool(search_context_size=\"low\")],\n",
    "    model_settings=ModelSettings(tool_choice=\"required\")\n",
    ")\n",
    "\n",
    "search_results = await Runner.run(search_agent, \"best Agentic AI frameworks 2025\")\n",
    "\n",
    "print(search_results.final_output)"
   ]
  },
  {
   "cell_type": "code",
   "execution_count": null,
   "id": "b53fa7f5",
   "metadata": {},
   "outputs": [],
   "source": [
    "INSTRUCTIONS = (\n",
    "    \"You are a senior researcher tasked with writing a cohesive report for a research query. \"\n",
    "    \"You will be provided with the original query, and some initial research done by a research assistant.\\n\"\n",
    "    \"You should first come up with an outline for the report that describes the structure and \"\n",
    "    \"flow of the report. Then, generate the report and return that as your final output.\\n\"\n",
    "    \"The final output should be in markdown format, and it should be lengthy and detailed. Aim \"\n",
    "    \"for 5-10 pages of content, at least 1000 words.\"\n",
    ")\n",
    "\n",
    "class ReportData(BaseModel):\n",
    "    short_summary: str = Field(description=\"A short 2-3 sentence summary of the findings.\")\n",
    "    markdown_report: str = Field(description=\"The final report\")\n",
    "    follow_up_questions: list[str] = Field(description=\"Suggested topics to research further\")\n",
    "\n",
    "writer_agent = Agent(\n",
    "    name=\"Writer Agent\",\n",
    "    instructions=INSTRUCTIONS,\n",
    "    model=\"gpt-4o-mini\",\n",
    "    output_type=ReportData\n",
    ")\n",
    "\n",
    "writer_output = await Runner.run(writer_agent, str(search_results.final_output))\n",
    "print(writer_output.final_output_as(ReportData))"
   ]
  },
  {
   "cell_type": "code",
   "execution_count": null,
   "id": "a78d8533",
   "metadata": {},
   "outputs": [],
   "source": [
    "@function_tool\n",
    "def send_email(subject: str, html_body: str):\n",
    "    \"\"\"Send an email with the given subject and HTML body.\n",
    "    \n",
    "    Args:\n",
    "        subject: The subject of the email\n",
    "        html_body: The HTML body of the email\n",
    "    \"\"\"\n",
    "    print(f\"Sending email with subject: {subject}\")\n",
    "    print(f\"HTML body: {html_body}\")\n",
    "    return \"Email sent successfully\"\n",
    "\n",
    "\n",
    "INSTRUCTIONS = \"\"\"You are able to send a nicely formatted HTML email based on a detailed report.\n",
    "You will be provided with a detailed report. You should use your tool to send one email, providing the \n",
    "report converted into clean, well presented HTML with an appropriate subject line.\"\"\"\n",
    "\n",
    "email_agent = Agent(\n",
    "    name=\"Email agent\",\n",
    "    instructions=INSTRUCTIONS,\n",
    "    tools=[send_email],\n",
    "    model=\"gpt-4o-mini\",\n",
    ")\n",
    "\n",
    "email_output = await Runner.run(email_agent, writer_output.final_output_as(ReportData).markdown_report)\n",
    "print(email_output.final_output)"
   ]
  },
  {
   "cell_type": "code",
   "execution_count": null,
   "id": "b771c59f",
   "metadata": {},
   "outputs": [],
   "source": [
    "planner_agent_tool = planner_agent.as_tool(\n",
    "    tool_name=\"research_planner_tool\",\n",
    "    tool_description=\"Tool for planning the research process\"\n",
    ")\n",
    "\n",
    "search_agent_tool = search_agent.as_tool(\n",
    "    tool_name=\"search_tool\",\n",
    "    tool_description=\"Tool for performing web searches\"\n",
    ")\n",
    "\n",
    "writer_agent_tool = writer_agent.as_tool(\n",
    "    tool_name=\"writer_tool\",\n",
    "    tool_description=\"Tool for writing the final report\"\n",
    ")\n",
    "\n",
    "email_agent_tool = email_agent.as_tool(\n",
    "    tool_name=\"email_tool\",\n",
    "    tool_description=\"Tool for sending the final report via email\"\n",
    ")"
   ]
  },
  {
   "cell_type": "code",
   "execution_count": null,
   "id": "5cc8dd51",
   "metadata": {},
   "outputs": [],
   "source": [
    "orchestrator_agent = Agent(\n",
    "    name=\"Research Orchestrator\",\n",
    "    instructions=\"\"\"\n",
    "    You are a helpful research assistant. You are given a research query. Based on the query, you perform the following steps:\n",
    "    1. Plan the research process\n",
    "    2. Perform the web searches\n",
    "    3. Write the final report\n",
    "    4. Send the final report via email\n",
    "    You do not perform the steps yourself, but you use the tools provided to you to perform the steps.\n",
    "    \"\"\",\n",
    "    model=\"gpt-4o-mini\",\n",
    "    tools=[\n",
    "        planner_agent_tool,\n",
    "        search_agent_tool,\n",
    "        writer_agent_tool,\n",
    "        email_agent_tool\n",
    "    ]\n",
    ")\n",
    "orchestrator_output = await Runner.run(orchestrator_agent, \"Best Agentic AI frameworks in 2025.\")\n",
    "print(orchestrator_output.final_output)"
   ]
  },
  {
   "cell_type": "code",
   "execution_count": null,
   "id": "c4598fbb",
   "metadata": {},
   "outputs": [],
   "source": []
  }
 ],
 "metadata": {
  "kernelspec": {
   "display_name": ".venv",
   "language": "python",
   "name": "python3"
  },
  "language_info": {
   "codemirror_mode": {
    "name": "ipython",
    "version": 3
   },
   "file_extension": ".py",
   "mimetype": "text/x-python",
   "name": "python",
   "nbconvert_exporter": "python",
   "pygments_lexer": "ipython3",
   "version": "3.12.11"
  }
 },
 "nbformat": 4,
 "nbformat_minor": 5
}
