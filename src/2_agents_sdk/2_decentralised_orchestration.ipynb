{
 "cells": [
  {
   "cell_type": "markdown",
   "id": "a9559efd",
   "metadata": {},
   "source": [
    "### This notebook demonstrates how to build a multi-agent environment.\n",
    "- It explains the concepts of manager orchestration (centralized control) and decentralized orchestration (agents delegate among themselves).\n",
    "- We implemented frontend and backend engineer agents that hand off tasks to each other, illustrating agentic handoff.\n",
    "- The notebook also covers a decentralized email writing workflow: a delegation agent assigns email writing to one of three agents (professional, busy, or humorous writer), who then hand off the completed email to an email sending agent."
   ]
  },
  {
   "cell_type": "code",
   "execution_count": null,
   "id": "de6d485b",
   "metadata": {},
   "outputs": [],
   "source": [
    "from agents import Agent, Runner, function_tool"
   ]
  },
  {
   "cell_type": "code",
   "execution_count": null,
   "id": "d4e79e30",
   "metadata": {},
   "outputs": [],
   "source": [
    "# Build frontend and backend engineer agents. Backend engineer agent is responsible for building the backend of the application. If the task is not related to backend, delegate it to an appropriate agent."
   ]
  },
  {
   "cell_type": "code",
   "execution_count": null,
   "id": "e559269b",
   "metadata": {},
   "outputs": [],
   "source": [
    "# Run the backend engineer agent to build the backend of the application or delegate the task to an appropriate agent."
   ]
  },
  {
   "cell_type": "code",
   "execution_count": null,
   "id": "e5222cf7",
   "metadata": {},
   "outputs": [],
   "source": [
    "# Let's build something more interesting. We will build a decentralized email writing workflow.\n",
    "# - Write a tool to send an email.\n",
    "# - Build an email sending agent that sends the final email to the customer.\n",
    "# - Build three different agents: professional, busy, and humorous writer. They write emails based on the context provided by the user and handoff the email content to the email sending agent to send the email to the customer.\n",
    "# - Build a delegation agent that assigns the email writing task to one of the three agents based on the context provided by the user.\n",
    "# Observe the agent-loop and handoffs through OpenAI traces."
   ]
  },
  {
   "cell_type": "code",
   "execution_count": null,
   "id": "5ffe07d0",
   "metadata": {},
   "outputs": [],
   "source": [
    "# Run the delegation agent to assign the email writing task to one of the three agents based on the context provided by the user."
   ]
  }
 ],
 "metadata": {
  "kernelspec": {
   "display_name": ".venv",
   "language": "python",
   "name": "python3"
  },
  "language_info": {
   "codemirror_mode": {
    "name": "ipython",
    "version": 3
   },
   "file_extension": ".py",
   "mimetype": "text/x-python",
   "name": "python",
   "nbconvert_exporter": "python",
   "pygments_lexer": "ipython3",
   "version": "3.12.11"
  }
 },
 "nbformat": 4,
 "nbformat_minor": 5
}
