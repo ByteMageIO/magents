{
 "cells": [
  {
   "cell_type": "markdown",
   "id": "a9559efd",
   "metadata": {},
   "source": [
    "### This notebook demonstrates how to build a multi-agent environment.\n",
    "- It explains the concepts of manager orchestration (centralized control) and decentralized orchestration (agents delegate among themselves).\n",
    "- We implemented frontend and backend engineer agents that hand off tasks to each other, illustrating agentic handoff.\n",
    "- The notebook also covers a decentralized email writing workflow: a delegation agent assigns email writing to one of three agents (professional, busy, or humorous writer), who then hand off the completed email to an email sending agent."
   ]
  },
  {
   "cell_type": "code",
   "execution_count": null,
   "id": "de6d485b",
   "metadata": {},
   "outputs": [],
   "source": [
    "from agents import Agent, Runner, function_tool"
   ]
  },
  {
   "cell_type": "code",
   "execution_count": null,
   "id": "d4e79e30",
   "metadata": {},
   "outputs": [],
   "source": [
    "# Build frontend and backend engineer agents. Backend engineer agent is responsible for building the backend of the application. If the task is not related to backend, delegate it to an appropriate agent.\n",
    "\n",
    "frontend_engineer_agent = Agent(\n",
    "    name=\"Frontend Engineer\",\n",
    "    instructions=\"You are a frontend engineer. You are responsible for building the frontend of the application. If the task is not related to frontend, delegate it to an appropriate agent.\",\n",
    "    model=\"gpt-4o-mini\",\n",
    "    handoff_description=\"You are not a frontend engineer and you want to delegate the task to an appropriate frontend engineer agent.\",\n",
    ")\n",
    "\n",
    "backend_engineer_agent = Agent(\n",
    "    name=\"Backend Engineer\",\n",
    "    instructions=\"You are a backend engineer. You are responsible for building the backend of the application. If the task is not related to backend, delegate it to an appropriate agent.\",\n",
    "    model=\"gpt-4o-mini\",\n",
    "    handoff_description=\"You are not a backend engineer and you want to delegate the task to an appropriate backend engineer agent.\",\n",
    "    handoffs=[frontend_engineer_agent]\n",
    ")"
   ]
  },
  {
   "cell_type": "code",
   "execution_count": null,
   "id": "e559269b",
   "metadata": {},
   "outputs": [],
   "source": [
    "# Run the backend engineer agent to build the backend of the application or delegate the task to an appropriate agent.\n",
    "\n",
    "result = await Runner.run(starting_agent=backend_engineer_agent, input=\"Write code snippet for encrypting user's password using bcrypt on backend.\")\n",
    "print(result.final_output)\n",
    "\n",
    "result = await Runner.run(starting_agent=backend_engineer_agent, input=\"Write a component in React JS for a login page.\")\n",
    "print(result.final_output)"
   ]
  },
  {
   "cell_type": "code",
   "execution_count": null,
   "id": "e5222cf7",
   "metadata": {},
   "outputs": [],
   "source": [
    "# Let's build something more interesting. We will build a decentralized email writing workflow.\n",
    "# - Write a tool to send an email.\n",
    "# - Build an email sending agent that sends the final email to the customer.\n",
    "# - Build three different agents: professional, busy, and humorous writer. They write emails based on the context provided by the user and handoff the email content to the email sending agent to send the email to the customer.\n",
    "# - Build a delegation agent that assigns the email writing task to one of the three agents based on the context provided by the user.\n",
    "# Observe the agent-loop and handoffs through OpenAI traces.\n",
    "\n",
    "@function_tool\n",
    "def send_email(email_address: str, subject: str, body: str):\n",
    "    \"\"\"\n",
    "    Send an email to the customer\n",
    "    Args:\n",
    "        email_address: str\n",
    "        subject: str\n",
    "        body: str\n",
    "    Returns:\n",
    "        str: \"Email sent successfully\"\n",
    "    \"\"\"\n",
    "    return \"Email sent successfully\"\n",
    "\n",
    "email_sending_agent = Agent(\n",
    "    name=\"Email Sending Agent\",\n",
    "    instructions=\"You are a email sending agent. You are responsible for sending the email to the customer based on the context provided by other agents.\",\n",
    "    model=\"gpt-4o-mini\",\n",
    "    handoff_description=\"Delegate to this agent for sending the final email to the customer\",\n",
    "    tools=[send_email]\n",
    ")\n",
    "\n",
    "professional_sdr_agent = Agent(\n",
    "    name=\"Professional SDR\",\n",
    "    instructions=\"You are a professional SDR. You are responsible for writing professional emails to the customers based on the context provided by the user. You then handoff the email content to the Email Sending Agent to send the email to the customer. You do not send the email yourself.\",\n",
    "    model=\"gpt-4o-mini\",\n",
    "    handoff_description=\"Agent for writing a professional email to the customer\",\n",
    "    handoffs=[email_sending_agent]\n",
    ")\n",
    "\n",
    "busy_sdr_agent = Agent(\n",
    "    name=\"Busy SDR\",\n",
    "    instructions=\"You are a busy SDR. You are responsible for writing concise and short emails to the customers based on the context provided by the user.  You then handoff the email content to the Email Sending Agent to send the email to the customer. You do not send the email yourself.\",\n",
    "    model=\"gpt-4o-mini\",\n",
    "    handoff_description=\"Agent for writing a short and concise email to the customer\",\n",
    "    handoffs=[email_sending_agent]\n",
    ")\n",
    "\n",
    "humorous_sdr_agent = Agent(\n",
    "    name=\"Humorous SDR\",\n",
    "    instructions=\"You are a humorous SDR. You are responsible for writing humorous and engaging emails to the customers based on the context provided by the user. You then handoff the email content to the Email Sending Agent to send the email to the customer. You do not send the email yourself.\",\n",
    "    model=\"gpt-4o-mini\",\n",
    "    handoff_description=\"Agent for writing a humorous email to the customer\",\n",
    "    handoffs=[email_sending_agent]\n",
    ")\n",
    "\n",
    "email_delegation_agent = Agent(\n",
    "    name=\"Email Delegation Agent\",\n",
    "    instructions=\"You are a email delegation agent. You are responsible for delegating the email writing task to the appropriate agent based on the context provided by the user.\",\n",
    "    model=\"gpt-4o-mini\",\n",
    "    handoffs=[professional_sdr_agent, busy_sdr_agent, humorous_sdr_agent]\n",
    ")"
   ]
  },
  {
   "cell_type": "code",
   "execution_count": null,
   "id": "5ffe07d0",
   "metadata": {},
   "outputs": [],
   "source": [
    "# Run the delegation agent to assign the email writing task to one of the three agents based on the context provided by the user.\n",
    "\n",
    "result = await Runner.run(starting_agent=email_delegation_agent, input=\"Write a cold email to Moonis. He is a very non-serious and memer person. Tell him about our new grinder and blender products line. These products belong to ByteMage. His email is moonis@bytemage.io.\")\n",
    "print(result.final_output)"
   ]
  }
 ],
 "metadata": {
  "kernelspec": {
   "display_name": ".venv",
   "language": "python",
   "name": "python3"
  },
  "language_info": {
   "codemirror_mode": {
    "name": "ipython",
    "version": 3
   },
   "file_extension": ".py",
   "mimetype": "text/x-python",
   "name": "python",
   "nbconvert_exporter": "python",
   "pygments_lexer": "ipython3",
   "version": "3.12.11"
  }
 },
 "nbformat": 4,
 "nbformat_minor": 5
}
