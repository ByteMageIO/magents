{
 "cells": [
  {
   "cell_type": "markdown",
   "id": "a7e94427",
   "metadata": {},
   "source": [
    "## 🧑‍💻 Welcome to the OpenAI Agents SDK Introduction!\n",
    "\n",
    "In this session, we'll explore the **OpenAI Agents SDK** and its core components:\n",
    "\n",
    "### What We'll Cover\n",
    "\n",
    "- **Agents**  \n",
    "  > An *agent* is an LLM (Large Language Model) equipped with tools and memory, capable of performing any task or delegating tasks to other agents.\n",
    "\n",
    "- **Runner**  \n",
    "  > The *Runner* is a helper class that assists in executing an agent loop.\n",
    "\n",
    "- **`function_tool`**  \n",
    "  > The `function_tool` is a decorator that allows you to use any Python function as a tool, leveraging the function's name, parameters, and docstring.\n",
    "\n",
    "- **Structured Outputs with Pydantic**  \n",
    "  > You can define structured outputs for your agents using [Pydantic's](https://docs.pydantic.dev/) `BaseModel` and `Field`. This allows you to specify the exact format and types of the agent's responses, making it easier to validate and use the outputs in your applications.\n",
    "\n",
    "### Prerequisite: Install the OpenAI Agents SDK\n",
    "\n",
    "Before you begin, make sure you have the OpenAI Agents SDK installed.\n",
    "If you're using [OpenAI's `uv` package manager](https://github.com/astral-sh/uv), run:\n",
    "\n",
    "```bash\n",
    "uv add openai-agents\n",
    "```\n",
    "\n",
    "If you're using `pip`, you can run:\n",
    "\n",
    "```bash\n",
    "pip install openai-agents\n",
    "```\n",
    "\n",
    "Now you're ready to get started!\n",
    "\n",
    "\n",
    "Let's get started!"
   ]
  },
  {
   "cell_type": "code",
   "execution_count": null,
   "id": "c59e16fa",
   "metadata": {},
   "outputs": [],
   "source": [
    "# import the necessary libraries\n",
    "\n",
    "from agents import Agent, Runner, function_tool\n",
    "from pydantic import BaseModel, Field"
   ]
  },
  {
   "cell_type": "markdown",
   "id": "1eb3ee44",
   "metadata": {},
   "source": [
    "### Why do we need `nest_asyncio` in Python notebooks?\n",
    "\n",
    "Jupyter notebooks (and other interactive Python environments) already run an event loop in the background to support features like code execution and output display. However, many modern Python libraries—including the OpenAI Agents SDK—use `asyncio` to manage asynchronous tasks.\n",
    "\n",
    "Normally, you can't start a new event loop if one is already running, which leads to errors like `RuntimeError: This event loop is already running`. The `nest_asyncio` library patches the event loop so that you can safely run asynchronous code (including `async` functions and libraries that use `asyncio`) inside a notebook cell, even if an event loop is already active.\n",
    "\n",
    "In summary:  \n",
    "**`nest_asyncio` allows you to run asynchronous code in Jupyter notebooks without event loop conflicts.**\n"
   ]
  },
  {
   "cell_type": "code",
   "execution_count": null,
   "id": "add9985a",
   "metadata": {},
   "outputs": [],
   "source": [
    "import nest_asyncio\n",
    "nest_asyncio.apply()"
   ]
  },
  {
   "cell_type": "code",
   "execution_count": null,
   "id": "d10374bf",
   "metadata": {},
   "outputs": [],
   "source": [
    "# Build your first agent using the OpenAI Agents SDK's Agent class. Provide the following parameters:\n",
    "# - name: \"My First Agent\"\n",
    "# - instructions: \"You are a helpful assistant/agent who answers users' queries.\"\n",
    "# - model: \"gpt-4o-mini\"\n",
    "\n",
    "my_first_agent = Agent(\n",
    "    name=\"My First Agent\",\n",
    "    instructions=\"You are a helpful assistant/agent who answers users' queries.\",\n",
    "    model=\"gpt-4o-mini\"\n",
    ")"
   ]
  },
  {
   "cell_type": "code",
   "execution_count": null,
   "id": "1b4ec440",
   "metadata": {},
   "outputs": [],
   "source": [
    "# Run the agent loop using the Runner class. Provide the following parameters:\n",
    "# - starting_agent: The agent to start the loop with.\n",
    "# - input: The input to pass to the agent.\n",
    "\n",
    "# Print the final output\n",
    "\n",
    "agent_output = Runner.run_sync(starting_agent=my_first_agent, input=\"What is the capital of France?\")\n",
    "print(agent_output.final_output)"
   ]
  },
  {
   "cell_type": "code",
   "execution_count": null,
   "id": "f1cdc1b7",
   "metadata": {},
   "outputs": [],
   "source": [
    "# Let's build an agent that uses dummy weather data to help you decide whether to go out or not.\n",
    "# Define a dummy weather tool, pydantic output schema and weather agent\n",
    "# Don't forget to use final_output_as() with a pydantic schema\n",
    "\n",
    "class WeatherAgentOutput(BaseModel):\n",
    "    temperature: int = Field(description=\"The temperature in Celsius\")\n",
    "    should_go_out: bool = Field(description=\"Whether you should go out or not\")\n",
    "    reasoning: str = Field(description=\"The reasoning for the answer\")\n",
    "\n",
    "\n",
    "@function_tool\n",
    "def get_weather(city: str):\n",
    "    \"\"\"\n",
    "    Get the weather for a city.\n",
    "\n",
    "    Args:\n",
    "        city (str): The city to get the weather for.\n",
    "    \"\"\"\n",
    "    return {\"temperature\": 20, \"unit\": \"Celsius\", \"description\": \"sunny\"}\n",
    "\n",
    "weather_agent = Agent(\n",
    "    name=\"Weather Agent\",\n",
    "    instructions=\"You are a weather agent. You answer questions about the weather.\",\n",
    "    model=\"gpt-4o-mini\",\n",
    "    tools=[get_weather],\n",
    "    output_type=WeatherAgentOutput\n",
    ")\n",
    "\n",
    "result = await Runner.run(starting_agent=weather_agent, input=\"Depending on the weather, should I go to Tokyo?\")\n",
    "print(result.final_output_as(WeatherAgentOutput))"
   ]
  },
  {
   "cell_type": "code",
   "execution_count": null,
   "id": "f9641ffe",
   "metadata": {},
   "outputs": [],
   "source": [
    "# Let's build another agent, Math Tutor agent that solves math expressions and provides steps.\n",
    "# Define a pydantic output schema for the Math Tutor agent and a tool for defining agent's output\n",
    "\n",
    "class MathTutorOutput(BaseModel):\n",
    "    final_answer: int = Field(description=\"The final answer to the question\")\n",
    "    steps: list[str] = Field(description=\"The steps to solve the problem\")\n",
    "\n",
    "@function_tool\n",
    "def solve_math_expression(expression: str):\n",
    "    \"\"\"\n",
    "    Solve a math expression.\n",
    "\n",
    "    Args:\n",
    "        expression (str): The math expression to solve.\n",
    "    \"\"\"\n",
    "    print(f\"Solving math expression: {expression}\")\n",
    "    return eval(expression)\n",
    "\n",
    "math_tutor_agent = Agent(\n",
    "    name=\"Math Tutor\",\n",
    "    instructions=\"You are a math tutor. You solve math expressions and provide steps. If a question is out of scope of mathematics, you say so. You do not calculate the answer to the question on your own. Instead you use the tools provided.\",\n",
    "    model=\"gpt-4o-mini\",\n",
    "    tools=[solve_math_expression],\n",
    "    output_type=MathTutorOutput,\n",
    ")\n",
    "\n",
    "result = await Runner.run(starting_agent=math_tutor_agent, input=\"What is the circumference of a circle with radius 5?\")\n",
    "print(result.final_output_as(MathTutorOutput))"
   ]
  }
 ],
 "metadata": {
  "kernelspec": {
   "display_name": ".venv",
   "language": "python",
   "name": "python3"
  },
  "language_info": {
   "codemirror_mode": {
    "name": "ipython",
    "version": 3
   },
   "file_extension": ".py",
   "mimetype": "text/x-python",
   "name": "python",
   "nbconvert_exporter": "python",
   "pygments_lexer": "ipython3",
   "version": "3.12.11"
  }
 },
 "nbformat": 4,
 "nbformat_minor": 5
}
