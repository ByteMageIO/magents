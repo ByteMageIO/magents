{
 "cells": [
  {
   "cell_type": "markdown",
   "id": "a7e94427",
   "metadata": {},
   "source": [
    "## 🧑‍💻 Welcome to the OpenAI Agents SDK Introduction!\n",
    "\n",
    "In this session, we'll explore the **OpenAI Agents SDK** and its core components:\n",
    "\n",
    "### What We'll Cover\n",
    "\n",
    "- **Agents**  \n",
    "  > An *agent* is an LLM (Large Language Model) equipped with tools and memory, capable of performing any task or delegating tasks to other agents.\n",
    "\n",
    "- **Runner**  \n",
    "  > The *Runner* is a helper class that assists in executing an agent loop.\n",
    "\n",
    "- **`function_tool`**  \n",
    "  > The `function_tool` is a decorator that allows you to use any Python function as a tool, leveraging the function's name, parameters, and docstring.\n",
    "\n",
    "- **Structured Outputs with Pydantic**  \n",
    "  > You can define structured outputs for your agents using [Pydantic's](https://docs.pydantic.dev/) `BaseModel` and `Field`. This allows you to specify the exact format and types of the agent's responses, making it easier to validate and use the outputs in your applications.\n",
    "\n",
    "### Prerequisite: Install the OpenAI Agents SDK\n",
    "\n",
    "Before you begin, make sure you have the OpenAI Agents SDK installed.\n",
    "If you're using [OpenAI's `uv` package manager](https://github.com/astral-sh/uv), run:\n",
    "\n",
    "```bash\n",
    "uv add openai-agents\n",
    "```\n",
    "\n",
    "If you're using `pip`, you can run:\n",
    "\n",
    "```bash\n",
    "pip install openai-agents\n",
    "```\n",
    "\n",
    "Now you're ready to get started!\n",
    "\n",
    "\n",
    "Let's get started!"
   ]
  },
  {
   "cell_type": "code",
   "execution_count": null,
   "id": "c59e16fa",
   "metadata": {},
   "outputs": [],
   "source": [
    "# import the necessary libraries\n",
    "\n",
    "from agents import Agent, Runner, function_tool\n",
    "from pydantic import BaseModel, Field"
   ]
  },
  {
   "cell_type": "markdown",
   "id": "1eb3ee44",
   "metadata": {},
   "source": [
    "### Why do we need `nest_asyncio` in Python notebooks?\n",
    "\n",
    "Jupyter notebooks (and other interactive Python environments) already run an event loop in the background to support features like code execution and output display. However, many modern Python libraries—including the OpenAI Agents SDK—use `asyncio` to manage asynchronous tasks.\n",
    "\n",
    "Normally, you can't start a new event loop if one is already running, which leads to errors like `RuntimeError: This event loop is already running`. The `nest_asyncio` library patches the event loop so that you can safely run asynchronous code (including `async` functions and libraries that use `asyncio`) inside a notebook cell, even if an event loop is already active.\n",
    "\n",
    "In summary:  \n",
    "**`nest_asyncio` allows you to run asynchronous code in Jupyter notebooks without event loop conflicts.**\n"
   ]
  },
  {
   "cell_type": "code",
   "execution_count": null,
   "id": "add9985a",
   "metadata": {},
   "outputs": [],
   "source": [
    "import nest_asyncio\n",
    "nest_asyncio.apply()"
   ]
  },
  {
   "cell_type": "code",
   "execution_count": null,
   "id": "d10374bf",
   "metadata": {},
   "outputs": [],
   "source": [
    "# Build your first agent using the OpenAI Agents SDK's Agent class. Provide the following parameters:\n",
    "# - name: \"My First Agent\"\n",
    "# - instructions: \"You are a helpful assistant/agent who answers users' queries.\"\n",
    "# - model: \"gpt-4o-mini\""
   ]
  },
  {
   "cell_type": "code",
   "execution_count": null,
   "id": "1b4ec440",
   "metadata": {},
   "outputs": [],
   "source": [
    "# Run the agent loop using the Runner class. Provide the following parameters:\n",
    "# - starting_agent: The agent to start the loop with.\n",
    "# - input: The input to pass to the agent.\n",
    "\n",
    "# Print the final output"
   ]
  },
  {
   "cell_type": "code",
   "execution_count": null,
   "id": "f1cdc1b7",
   "metadata": {},
   "outputs": [],
   "source": [
    "# Let's build an agent that uses dummy weather data to help you decide whether to go out or not.\n",
    "# Define a dummy weather tool, pydantic output schema and weather agent\n",
    "# Don't forget to use final_output_as() with a pydantic schema"
   ]
  },
  {
   "cell_type": "code",
   "execution_count": null,
   "id": "f9641ffe",
   "metadata": {},
   "outputs": [],
   "source": [
    "# Let's build another agent, Math Tutor agent that solves math expressions and provides steps.\n",
    "# Define a pydantic output schema for the Math Tutor agent and a tool for defining agent's output"
   ]
  }
 ],
 "metadata": {
  "kernelspec": {
   "display_name": ".venv",
   "language": "python",
   "name": "python3"
  },
  "language_info": {
   "codemirror_mode": {
    "name": "ipython",
    "version": 3
   },
   "file_extension": ".py",
   "mimetype": "text/x-python",
   "name": "python",
   "nbconvert_exporter": "python",
   "pygments_lexer": "ipython3",
   "version": "3.12.11"
  }
 },
 "nbformat": 4,
 "nbformat_minor": 5
}
