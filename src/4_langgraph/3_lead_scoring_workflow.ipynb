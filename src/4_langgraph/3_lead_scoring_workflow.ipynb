{
 "cells": [
  {
   "cell_type": "markdown",
   "id": "55a12300",
   "metadata": {},
   "source": [
    "## 🚀 Lead Enrichment AI Workflow\n",
    "\n",
    "In this workflow, you'll provide a company name and website. Our AI will:\n",
    "\n",
    "1. Explore the company's website and search the web for the latest news and activities.\n",
    "2. Score the lead using your Ideal Customer Profile (ICP) and the gathered insights.\n",
    "3. Decide whether a proposal should be sent.\n",
    "4. If qualified, automatically generate and send a tailored proposal via email.\n",
    "\n",
    "# <img src=\"./data/lead_enrichment_graph.png\" alt=\"Agentic RAG\" width=\"600\">"
   ]
  },
  {
   "cell_type": "code",
   "execution_count": null,
   "id": "646f57d5",
   "metadata": {},
   "outputs": [],
   "source": [
    "# Add necessary imports here"
   ]
  },
  {
   "cell_type": "code",
   "execution_count": null,
   "id": "e1eda3b5",
   "metadata": {},
   "outputs": [],
   "source": [
    "# Add state class and pydantic models for state and structured output"
   ]
  },
  {
   "cell_type": "code",
   "execution_count": null,
   "id": "e56ae2c6",
   "metadata": {},
   "outputs": [],
   "source": [
    "# Email tool setup"
   ]
  },
  {
   "cell_type": "code",
   "execution_count": null,
   "id": "665166a1",
   "metadata": {},
   "outputs": [],
   "source": [
    "# Search Tool Setup"
   ]
  },
  {
   "cell_type": "code",
   "execution_count": null,
   "id": "850a682a",
   "metadata": {},
   "outputs": [],
   "source": [
    "# PlayWright Tools Setup"
   ]
  },
  {
   "cell_type": "code",
   "execution_count": null,
   "id": "6fb78c68",
   "metadata": {},
   "outputs": [],
   "source": [
    "# LLM Definitions binded with tools"
   ]
  },
  {
   "cell_type": "code",
   "execution_count": null,
   "id": "42c6d4fa",
   "metadata": {},
   "outputs": [],
   "source": [
    "# Add website research node\n",
    "# This node will be responsible for going through the website and extracting relevant information"
   ]
  },
  {
   "cell_type": "code",
   "execution_count": null,
   "id": "2edc1dbd",
   "metadata": {},
   "outputs": [],
   "source": [
    "# Add news research node\n",
    "# This node will be responsible for searching latest news about the provided company on the internet\n"
   ]
  },
  {
   "cell_type": "code",
   "execution_count": null,
   "id": "065b6dc6",
   "metadata": {},
   "outputs": [],
   "source": [
    "# Define prompt for providing LLM with ICP and instructions for scoring leads"
   ]
  },
  {
   "cell_type": "code",
   "execution_count": null,
   "id": "3ce7db14",
   "metadata": {},
   "outputs": [],
   "source": [
    "# Add lead scoring node\n",
    "# This node will be responsible for digesting the news and website research and the provided ICP and score the lead"
   ]
  },
  {
   "cell_type": "code",
   "execution_count": null,
   "id": "0b6917ca",
   "metadata": {},
   "outputs": [],
   "source": [
    "# Add send proposal node\n",
    "# This node will be responsible for crafting a business proposal and emailing it"
   ]
  },
  {
   "cell_type": "code",
   "execution_count": null,
   "id": "d4481ed1",
   "metadata": {},
   "outputs": [],
   "source": [
    "# Add router for deciding to send proposal or not"
   ]
  },
  {
   "cell_type": "code",
   "execution_count": null,
   "id": "9bdf3e37",
   "metadata": {},
   "outputs": [],
   "source": [
    "# Add nodes and edges to the graph as defined in the illustration"
   ]
  },
  {
   "cell_type": "code",
   "execution_count": null,
   "id": "d30af45e",
   "metadata": {},
   "outputs": [],
   "source": [
    "# Display the graph"
   ]
  },
  {
   "cell_type": "code",
   "execution_count": null,
   "id": "31359af0",
   "metadata": {},
   "outputs": [],
   "source": [
    "# Invoke the graph with website and company name"
   ]
  }
 ],
 "metadata": {
  "kernelspec": {
   "display_name": ".venv",
   "language": "python",
   "name": "python3"
  },
  "language_info": {
   "codemirror_mode": {
    "name": "ipython",
    "version": 3
   },
   "file_extension": ".py",
   "mimetype": "text/x-python",
   "name": "python",
   "nbconvert_exporter": "python",
   "pygments_lexer": "ipython3",
   "version": "3.12.11"
  }
 },
 "nbformat": 4,
 "nbformat_minor": 5
}
