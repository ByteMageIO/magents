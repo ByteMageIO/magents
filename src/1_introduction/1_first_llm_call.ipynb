{
 "cells": [
  {
   "cell_type": "markdown",
   "id": "a2133cc9",
   "metadata": {},
   "source": [
    "## Introduction\n",
    "\n",
    "### In this session we will do our first LLM API call\n",
    "\n",
    "**Before you start, make sure to install the required packages by running the following command in your terminal:**\n",
    "\n",
    "```\n",
    "uv add openai ipykernel dotenv\n",
    "```\n"
   ]
  },
  {
   "cell_type": "code",
   "execution_count": null,
   "id": "efd5133d",
   "metadata": {},
   "outputs": [],
   "source": [
    "# import dotenv, openai and IPython"
   ]
  },
  {
   "cell_type": "code",
   "execution_count": null,
   "id": "abf0ccc3",
   "metadata": {},
   "outputs": [],
   "source": [
    "# load env variables and initiate OpenAI client"
   ]
  },
  {
   "cell_type": "code",
   "execution_count": null,
   "id": "a5786683",
   "metadata": {},
   "outputs": [],
   "source": [
    "# First LLM call: What is 2+2?"
   ]
  },
  {
   "cell_type": "code",
   "execution_count": null,
   "id": "73b6e9d4",
   "metadata": {},
   "outputs": [],
   "source": [
    "# Let's ask the LLM to tell us an ironic joke about software developers"
   ]
  },
  {
   "cell_type": "code",
   "execution_count": null,
   "id": "d6cb8d48",
   "metadata": {},
   "outputs": [],
   "source": [
    "# Let's ask LLM to pose a question to assess someone's IQ\n"
   ]
  },
  {
   "cell_type": "code",
   "execution_count": null,
   "id": "41b8fcf0",
   "metadata": {},
   "outputs": [],
   "source": [
    "# Let's ask LLM to answer the same question. Since LLMs are great with Markdown, let's ask it to format the answer in Markdown."
   ]
  },
  {
   "cell_type": "code",
   "execution_count": null,
   "id": "b1d70774",
   "metadata": {},
   "outputs": [],
   "source": [
    "# Now let's ask LLM to give us areas of business worth exploring for agentic solutions"
   ]
  }
 ],
 "metadata": {
  "kernelspec": {
   "display_name": ".venv",
   "language": "python",
   "name": "python3"
  },
  "language_info": {
   "codemirror_mode": {
    "name": "ipython",
    "version": 3
   },
   "file_extension": ".py",
   "mimetype": "text/x-python",
   "name": "python",
   "nbconvert_exporter": "python",
   "pygments_lexer": "ipython3",
   "version": "3.12.11"
  }
 },
 "nbformat": 4,
 "nbformat_minor": 5
}
