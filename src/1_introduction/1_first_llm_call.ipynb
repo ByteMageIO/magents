{
 "cells": [
  {
   "cell_type": "markdown",
   "id": "a2133cc9",
   "metadata": {},
   "source": [
    "## Introduction\n",
    "\n",
    "### In this session we will do our first LLM API call\n",
    "\n",
    "**Before you start, make sure to install the required packages by running the following command in your terminal:**\n",
    "\n",
    "```\n",
    "uv add openai ipykernel dotenv\n",
    "```\n"
   ]
  },
  {
   "cell_type": "code",
   "execution_count": null,
   "id": "efd5133d",
   "metadata": {},
   "outputs": [],
   "source": [
    "# import dotenv, openai and IPython\n",
    "from dotenv import load_dotenv\n",
    "from openai import OpenAI\n",
    "from IPython.display import display, Markdown"
   ]
  },
  {
   "cell_type": "code",
   "execution_count": null,
   "id": "abf0ccc3",
   "metadata": {},
   "outputs": [],
   "source": [
    "# load env variables and initiate OpenAI client\n",
    "load_dotenv(override=True)\n",
    "openai_client = OpenAI()"
   ]
  },
  {
   "cell_type": "code",
   "execution_count": null,
   "id": "a5786683",
   "metadata": {},
   "outputs": [],
   "source": [
    "# First LLM call: What is 2+2?\n",
    "\n",
    "messages = [{\"role\": \"user\", \"content\": \"What is 2+2?\"}]\n",
    "\n",
    "llm_response = openai_client.chat.completions.create(\n",
    "    model=\"gpt-4o-mini\",\n",
    "    messages=messages\n",
    ")\n",
    "\n",
    "print(llm_response.choices[0].message.content)"
   ]
  },
  {
   "cell_type": "code",
   "execution_count": null,
   "id": "73b6e9d4",
   "metadata": {},
   "outputs": [],
   "source": [
    "# Let's ask the LLM to tell us an ironic joke about freedom of speech\n",
    "\n",
    "messages = [{\"role\": \"system\", \"content\": \"You are a funny AI assistant that tells jokes.\"}, {\"role\": \"user\", \"content\": \"Tell me an joke about software developers. You should be sarcastic and make fun of them.\"}]\n",
    "\n",
    "llm_response = openai_client.chat.completions.create(\n",
    "    model=\"gpt-4o-mini\",\n",
    "    messages=messages\n",
    ")\n",
    "\n",
    "print(llm_response.choices[0].message.content)"
   ]
  },
  {
   "cell_type": "code",
   "execution_count": null,
   "id": "d6cb8d48",
   "metadata": {},
   "outputs": [],
   "source": [
    "# Let's ask LLM to pose a question to assess someone's IQ\n",
    "\n",
    "messages = [{\"role\": \"system\", \"content\": \"Please suggest a question to assess someone's IQ. Respond only with a question.\"}]\n",
    "\n",
    "llm_response = openai_client.chat.completions.create(\n",
    "    model=\"gpt-4o-mini\",\n",
    "    messages=messages\n",
    ")\n",
    "\n",
    "print(llm_response.choices[0].message.content)\n"
   ]
  },
  {
   "cell_type": "code",
   "execution_count": null,
   "id": "41b8fcf0",
   "metadata": {},
   "outputs": [],
   "source": [
    "# Let's ask LLM to answer the same question. Since LLMs are great with Markdown, let's ask it to format the answer in Markdown.\n",
    "\n",
    "messages = [{\"role\": \"system\", \"content\": \"You are a helpful assistant who answers user's questions and formats the answer in Markdown.\"}, {\"role\": \"user\", \"content\": llm_response.choices[0].message.content}]\n",
    "\n",
    "llm_response = openai_client.chat.completions.create(\n",
    "    model=\"gpt-4o-mini\",\n",
    "    messages=messages\n",
    ")\n",
    "\n",
    "print(llm_response.choices[0].message.content)\n",
    "display(Markdown(llm_response.choices[0].message.content))"
   ]
  },
  {
   "cell_type": "code",
   "execution_count": null,
   "id": "b1d70774",
   "metadata": {},
   "outputs": [],
   "source": [
    "# Now let's ask LLM to give us areas of business worth exploring for agentic solutions\n",
    "\n",
    "messages = [{\"role\": \"system\", \"content\": \"You are a helpful assistant who suggests areas of business worth exploring for agentic solutions. You format your answer in Markdown.\"}, {\"role\": \"user\", \"content\": \"What are the areas of business worth exploring for agentic solutions?\"}]\n",
    "\n",
    "llm_response = openai_client.chat.completions.create(\n",
    "    model=\"gpt-4o-mini\",\n",
    "    messages=messages\n",
    ")\n",
    "\n",
    "display(Markdown(llm_response.choices[0].message.content))"
   ]
  }
 ],
 "metadata": {
  "kernelspec": {
   "display_name": ".venv",
   "language": "python",
   "name": "python3"
  },
  "language_info": {
   "codemirror_mode": {
    "name": "ipython",
    "version": 3
   },
   "file_extension": ".py",
   "mimetype": "text/x-python",
   "name": "python",
   "nbconvert_exporter": "python",
   "pygments_lexer": "ipython3",
   "version": "3.12.11"
  }
 },
 "nbformat": 4,
 "nbformat_minor": 5
}
